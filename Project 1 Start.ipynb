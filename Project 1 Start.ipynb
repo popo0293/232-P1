{
 "cells": [
  {
   "cell_type": "code",
   "execution_count": 6,
   "metadata": {},
   "outputs": [],
   "source": [
    "library('igraph')\n",
    "library('Matrix')\n",
    "library('pracma')"
   ]
  },
  {
   "cell_type": "code",
   "execution_count": 7,
   "metadata": {
    "collapsed": true
   },
   "outputs": [],
   "source": [
    "create_transition_matrix = function (g){\n",
    "    \n",
    "    # WARNING: make sure your graph is connected (you might input GCC of your graph)\n",
    "    \n",
    "    vs = V(g)\n",
    "    n = vcount(g)\n",
    "    adj = as_adjacency_matrix(g)\n",
    "    adj[diag(rowSums(adj) == 0)] = 1  # handle if the user is using the function for networks with isolated nodes by creating self-edges\n",
    "    z = matrix(rowSums(adj, , 1))\n",
    "    \n",
    "    transition_matrix = adj / repmat(z, 1, n)  # normalize to get probabilities\n",
    "    \n",
    "    return(transition_matrix)\n",
    "}"
   ]
  },
  {
   "cell_type": "markdown",
   "metadata": {},
   "source": [
    "### Transition Matrix for an Undirected Network\n"
   ]
  },
  {
   "cell_type": "code",
   "execution_count": 8,
   "metadata": {},
   "outputs": [
    {
     "name": "stdout",
     "output_type": "stream",
     "text": [
      "8 x 8 sparse Matrix of class \"dgCMatrix\"\n",
      "                                                                  \n",
      "[1,] .    1.0000000 .         .         . .         .    .        \n",
      "[2,] 0.25 .         0.2500000 0.2500000 . 0.2500000 .    .        \n",
      "[3,] .    0.5000000 .         .         . .         .    0.5000000\n",
      "[4,] .    0.2500000 .         .         . 0.2500000 0.25 0.2500000\n",
      "[5,] .    .         .         .         1 .         .    .        \n",
      "[6,] .    0.3333333 .         0.3333333 . .         .    0.3333333\n",
      "[7,] .    .         .         1.0000000 . .         .    .        \n",
      "[8,] .    .         0.3333333 0.3333333 . 0.3333333 .    .        \n"
     ]
    },
    {
     "data": {
      "image/png": "[encoded data removed]",
      "text/plain": [
       "Plot with title \"\""
      ]
     },
     "metadata": {},
     "output_type": "display_data"
    }
   ],
   "source": [
    "set.seed(0)\n",
    "g = random.graph.game(8, 0.3)\n",
    "plot(g)\n",
    "print(create_transition_matrix(g))"
   ]
  },
  {
   "cell_type": "markdown",
   "metadata": {},
   "source": [
    "### Transition Matrix for a Directed Network"
   ]
  },
  {
   "cell_type": "code",
   "execution_count": 9,
   "metadata": {},
   "outputs": [
    {
     "name": "stdout",
     "output_type": "stream",
     "text": [
      "8 x 8 sparse Matrix of class \"dgCMatrix\"\n",
      "                                                                    \n",
      "[1,] .    .         .    0.5000000 0.5000000 .         .         .  \n",
      "[2,] 0.20 .         .    .         0.2000000 0.2000000 0.2000000 0.2\n",
      "[3,] .    0.3333333 .    0.3333333 .         0.3333333 .         .  \n",
      "[4,] 0.25 .         0.25 .         0.2500000 .         0.2500000 .  \n",
      "[5,] .    0.5000000 .    .         .         .         .         0.5\n",
      "[6,] .    0.3333333 .    .         0.3333333 .         0.3333333 .  \n",
      "[7,] .    .         .    .         .         .         1.0000000 .  \n",
      "[8,] .    0.2500000 0.25 .         0.2500000 .         0.2500000 .  \n"
     ]
    },
    {
     "data": {
      "image/png": "[encoded data removed]",
      "text/plain": [
       "Plot with title \"\""
      ]
     },
     "metadata": {},
     "output_type": "display_data"
    }
   ],
   "source": [
    "set.seed(1)\n",
    "g = random.graph.game(8, 0.4, directed = T)\n",
    "plot(g)\n",
    "print(create_transition_matrix(g))"
   ]
  },
  {
   "cell_type": "code",
   "execution_count": 10,
   "metadata": {
    "collapsed": true
   },
   "outputs": [],
   "source": [
    "random_walk = function (g, num_steps, start_node, transition_matrix = NULL){\n",
    "    if(is.null(transition_matrix))\n",
    "        transition_matrix = create_transition_matrix(g)\n",
    "        \n",
    "    v = start_node\n",
    "    for(i in 1:num_steps){\n",
    "        fprintf('Step %d: %d\\n', i, v)  # COMMENT THIS\n",
    "        PMF = transition_matrix[v, ]\n",
    "        v = sample(1:vcount(g), 1, prob = PMF)        \n",
    "    }\n",
    "    \n",
    "    return(v)\n",
    "}"
   ]
  },
  {
   "cell_type": "code",
   "execution_count": 11,
   "metadata": {},
   "outputs": [
    {
     "name": "stdout",
     "output_type": "stream",
     "text": [
      "Step 1: 1\n",
      "Step 2: 5\n",
      "Step 3: 8\n",
      "Step 4: 2\n",
      "Step 5: 6\n",
      "Step 6: 7\n",
      "Step 7: 7\n",
      "Step 8: 7\n",
      "Step 9: 7\n",
      "Step 10: 7\n",
      "Step 11: 7\n",
      "Step 12: 7\n",
      "Step 13: 7\n",
      "Step 14: 7\n",
      "Step 15: 7\n"
     ]
    }
   ],
   "source": [
    "set.seed(1)\n",
    "v_last = random_walk(g, 15, 1)"
   ]
  },
  {
   "cell_type": "code",
   "execution_count": null,
   "metadata": {
    "collapsed": true
   },
   "outputs": [],
   "source": []
  },
  {
   "cell_type": "code",
   "execution_count": null,
   "metadata": {
    "collapsed": true
   },
   "outputs": [],
   "source": []
  }
 ],
 "metadata": {
  "kernelspec": {
   "display_name": "R",
   "language": "R",
   "name": "ir"
  },
  "language_info": {
   "codemirror_mode": "r",
   "file_extension": ".r",
   "mimetype": "text/x-r-source",
   "name": "R",
   "pygments_lexer": "r",
   "version": "3.4.4"
  }
 },
 "nbformat": 4,
 "nbformat_minor": 2
}
